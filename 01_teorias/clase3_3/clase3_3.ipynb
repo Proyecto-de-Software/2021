{
 "cells": [
  {
   "cell_type": "markdown",
   "metadata": {
    "slideshow": {
     "slide_type": "slide"
    }
   },
   "source": [
    "# Proyecto de Software\n",
    "\n",
    "\n",
    "## Cursada 2021\n"
   ]
  },
  {
   "cell_type": "markdown",
   "metadata": {
    "slideshow": {
     "slide_type": "slide"
    }
   },
   "source": [
    "# Nos habíamos quedado en ..."
   ]
  },
  {
   "cell_type": "code",
   "execution_count": null,
   "metadata": {
    "slideshow": {
     "slide_type": "fragment"
    }
   },
   "outputs": [],
   "source": [
    "import string \n",
    "import random\n",
    "\n",
    "letras = string.ascii_lowercase\n",
    "letras += string.ascii_uppercase\n",
    "letras += string.digits\n",
    "\n",
    "def generar_clave(largo_clave, todo_minusculas = True):\n",
    "    clave = ''\n",
    "    for c in range(largo_clave):\n",
    "        clave  += random.choice(letras)\n",
    "    if todo_minusculas:\n",
    "        return clave.lower()\n",
    "    else:\n",
    "        return clave\n",
    "\n",
    "mi_clave = generar_clave(8)\n",
    "print(mi_clave)"
   ]
  },
  {
   "cell_type": "markdown",
   "metadata": {
    "slideshow": {
     "slide_type": "slide"
    }
   },
   "source": [
    "# Expresiones lambda"
   ]
  },
  {
   "cell_type": "markdown",
   "metadata": {
    "slideshow": {
     "slide_type": "fragment"
    }
   },
   "source": [
    "```python\n",
    "lambda a, b=1: a*b\n",
    "```\n",
    "Es equivalente a:\n",
    "```python\n",
    "\tdef producto(a, b=1):\n",
    "\t\treturn a*b\n",
    "```\n",
    "        \n",
    "Más info [sobre lambda](https://docs.python.org/3/tutorial/controlflow.html#lambda-expressions)"
   ]
  },
  {
   "cell_type": "code",
   "execution_count": null,
   "metadata": {
    "slideshow": {
     "slide_type": "fragment"
    }
   },
   "outputs": [],
   "source": [
    "f = lambda a, b=1: a*b\n",
    "f(2,3)"
   ]
  },
  {
   "cell_type": "markdown",
   "metadata": {
    "slideshow": {
     "slide_type": "subslide"
    }
   },
   "source": [
    "# Veamos algo más interesante"
   ]
  },
  {
   "cell_type": "code",
   "execution_count": null,
   "metadata": {
    "slideshow": {
     "slide_type": "fragment"
    }
   },
   "outputs": [],
   "source": [
    "lista = [lambda x: x * 2, lambda x: x * 3]\n",
    "param = 4\n",
    "for accion in lista:\n",
    "    print(accion(param))"
   ]
  },
  {
   "cell_type": "markdown",
   "metadata": {
    "slideshow": {
     "slide_type": "subslide"
    }
   },
   "source": [
    "# Usamos lambda: map y filter"
   ]
  },
  {
   "cell_type": "code",
   "execution_count": null,
   "metadata": {
    "slideshow": {
     "slide_type": "fragment"
    }
   },
   "outputs": [],
   "source": [
    "lista  = [1, 2, 3, 4, 5, 6, 7]\n",
    "\n",
    "secuencia = map(lambda x: x*x, lista)\n",
    "\n",
    "#list(secuencia)\n",
    "#secuencia = filter(lambda x: x%2 == 0, lista)\n",
    "for x in secuencia:\n",
    "    "
   ]
  },
  {
   "cell_type": "markdown",
   "metadata": {
    "slideshow": {
     "slide_type": "slide"
    }
   },
   "source": [
    "# Manejo de  excepciones"
   ]
  },
  {
   "cell_type": "markdown",
   "metadata": {
    "slideshow": {
     "slide_type": "fragment"
    }
   },
   "source": [
    "- ¿Qué acción se toma después de levantada y manejada una excepción? ¿Se continúa con la ejecución de la unidad que lo provocó o se termina?\n",
    "- ¿Qué sucede cuando no se encuentra un manejador para una excepción levantada?\n",
    "- ¿Qué excepciones predefinidas existen?\n",
    "- ¿Podemos levantar en forma explícita una excepción?\n",
    "- ¿Podemos crear nuestras propias excepciones?"
   ]
  },
  {
   "cell_type": "markdown",
   "metadata": {
    "slideshow": {
     "slide_type": "subslide"
    }
   },
   "source": [
    "\n",
    "# En Python: **try - except**\n",
    "\n",
    "\n",
    "\n",
    "```python\n",
    "try:\n",
    "    sentencias\n",
    "except excepcion1, excepcion2:\n",
    "    sentencias\n",
    "except excepcion3 as variable:\n",
    "    sentencias\n",
    "except:\n",
    "    sentencias\n",
    "else:\n",
    "    sentencias\n",
    "finally:\n",
    "    sentencias\n",
    "    \n",
    "```\n",
    "\n"
   ]
  },
  {
   "cell_type": "markdown",
   "metadata": {
    "slideshow": {
     "slide_type": "subslide"
    }
   },
   "source": [
    "# Veamos un ejemplo"
   ]
  },
  {
   "cell_type": "code",
   "execution_count": null,
   "metadata": {
    "slideshow": {
     "slide_type": "fragment"
    }
   },
   "outputs": [],
   "source": [
    "dic = {1:\"Charly Alberti\", 2:\"Gustavo Ceratti\", 4:\"Zeta Bosio\"}\n",
    "\n",
    "for clave in range(1,6):\n",
    "    try:\n",
    "        print(f\"{clave} - {dic[clave]}\")\n",
    "    except (KeyError):\n",
    "        print(\"Clave incorrecta.\")\n",
    "#print (dic)"
   ]
  },
  {
   "cell_type": "markdown",
   "metadata": {
    "slideshow": {
     "slide_type": "fragment"
    }
   },
   "source": [
    "## Python FINALIZA el bloque que levanta la excepción  \n"
   ]
  },
  {
   "cell_type": "markdown",
   "metadata": {
    "slideshow": {
     "slide_type": "subslide"
    }
   },
   "source": [
    "# Excepciones: las cláusulas **else** y **finally**\n"
   ]
  },
  {
   "cell_type": "code",
   "execution_count": null,
   "metadata": {
    "slideshow": {
     "slide_type": "fragment"
    }
   },
   "outputs": [],
   "source": [
    "dic = {1:\"Charly García\", 2:\"Pedro Aznar\", 4:\"David Lebón\", 5:\"Oscar Moro\"}\n",
    "try:\n",
    "    for x in range(1,4):\n",
    "        print (dic[x])\n",
    "except (KeyError):\n",
    "    dic[x] = 'NUEVO'\n",
    "else:\n",
    "    print ('Se recorrió el diccionario y NO se agregaron valores')\n",
    "finally:\n",
    "    print('Ha FINALIZADO la ejecución del modulo')\n",
    "print (\"El diccionario al final del proceso es: \", dic)\n"
   ]
  },
  {
   "cell_type": "markdown",
   "metadata": {
    "slideshow": {
     "slide_type": "subslide"
    }
   },
   "source": [
    "# Podemos levantar explícitamente una excepción"
   ]
  },
  {
   "cell_type": "code",
   "execution_count": null,
   "metadata": {
    "slideshow": {
     "slide_type": "fragment"
    }
   },
   "outputs": [],
   "source": [
    "try:\n",
    "    raise NameError('Hola')\n",
    "except  NameError:\n",
    "    print(\"mmmm\")\n",
    "    raise"
   ]
  },
  {
   "cell_type": "markdown",
   "metadata": {
    "slideshow": {
     "slide_type": "fragment"
    }
   },
   "source": [
    " Más información en [documentación oficial sobre excepciones](https://docs.python.org/3/tutorial/errors.html)"
   ]
  },
  {
   "cell_type": "markdown",
   "metadata": {
    "slideshow": {
     "slide_type": "subslide"
    }
   },
   "source": [
    "## ¿Cómo es la búsqueda del manejador de una excepción?"
   ]
  },
  {
   "cell_type": "code",
   "execution_count": null,
   "metadata": {
    "slideshow": {
     "slide_type": "fragment"
    }
   },
   "outputs": [],
   "source": [
    "dicci = {0:\"Led Zeppelin\", 2:\"Deep Purple\", 3:\"Black Sabbath\"}\n",
    "y = 9\n",
    "try:\n",
    "    print('Vamos a entrar al bloque TRY interno')\n",
    "    try:\n",
    "        for x in range(1,6):\n",
    "            print (dicci[z])      # OJO que estamos usando la variable z\n",
    "    except KeyError:\n",
    "        dicci[x] = 'Agregado'\n",
    "    \n",
    "    y = y + 1\n",
    "    print(f\"El valor de y es {y}\")\n",
    "except NameError:\n",
    "    print('OJO! Se está usando una variable que no existe')\n",
    "\n",
    "print('Se sigue con las siguientes sentencias del programa')"
   ]
  },
  {
   "cell_type": "markdown",
   "metadata": {
    "slideshow": {
     "slide_type": "fragment"
    }
   },
   "source": [
    "- ¿Se ejecutaron las líneas 11 y 12?"
   ]
  },
  {
   "cell_type": "markdown",
   "metadata": {
    "slideshow": {
     "slide_type": "subslide"
    }
   },
   "source": [
    "# ¿Y ahora?"
   ]
  },
  {
   "cell_type": "code",
   "execution_count": null,
   "metadata": {
    "slideshow": {
     "slide_type": "fragment"
    }
   },
   "outputs": [],
   "source": [
    "dicci = {0:\"Led Zeppelin\", 2:\"Deep Purple\", 3:\"Black Sabbath\"}\n",
    "y = 9\n",
    "try:\n",
    "    print('Vamos a entrar a otro bloque TRY')\n",
    "    try:\n",
    "        for x in range(1,6):\n",
    "            print (dicci[z])      # OJO que estamos usando la variable z\n",
    "    except KeyError:\n",
    "        dicci[x] = 'Agregado'\n",
    "    finally:\n",
    "        y = y + 1\n",
    "        print(f\"El valor de y es {y}\")\n",
    "    print(\"Este texto no se imprime nunca!!!\")\n",
    "except NameError:\n",
    "    print('OJO! Se está usando una variable que no existe')\n",
    "\n",
    "print('Se sigue con las siguientes sentencias del programa')"
   ]
  },
  {
   "cell_type": "markdown",
   "metadata": {
    "slideshow": {
     "slide_type": "subslide"
    }
   },
   "source": [
    "##  Y.. ¿qué sucede si la excepción se produce en una función?"
   ]
  },
  {
   "cell_type": "markdown",
   "metadata": {
    "slideshow": {
     "slide_type": "fragment"
    }
   },
   "source": [
    "- Busca **dinámicamente**."
   ]
  },
  {
   "cell_type": "code",
   "execution_count": null,
   "metadata": {
    "slideshow": {
     "slide_type": "fragment"
    }
   },
   "outputs": [],
   "source": [
    "def retornar_elemento(x):\n",
    "    dicci = {0:\"Led Zeppelin\", 2:\"Deep Purple\", 3:\"Black Sabbath\"}\n",
    "    try:\n",
    "        return dicci[x]\n",
    "    except NameError:\n",
    "        x = 0\n",
    "\n",
    "print('Este código sirve para mostrar propagación dinámica.')\n",
    "elem = int(input('Ingresá una clave para acceder al diccionario: (999 para finalizar) '))\n",
    "while elem!=999:\n",
    "    try:\n",
    "        print (f\"El valor del elemento: {elem} es {retornar_elemento(elem)}\")\n",
    "    except KeyError:\n",
    "        print ('OJO! Entraste una clave inexistente. Probá de nuevo!')\n",
    "    elem = int(input('Ingresá clave para acceder al diccionario: (999 para finalizar) '))\n"
   ]
  },
  {
   "cell_type": "markdown",
   "metadata": {
    "slideshow": {
     "slide_type": "subslide"
    }
   },
   "source": [
    "# ¿Qué sucedió?\n",
    "\n",
    "\n",
    "- La excepción KeyError se levantó dentro de la función **retornar_elemento**.\n",
    "- Al no encontrar un manejador para esa excepción en la función ...\n",
    "- Busca dinámicamente a quién llamó a la función. \n",
    "- Si no encuentra un manejador... entonces termina el programa."
   ]
  },
  {
   "cell_type": "markdown",
   "metadata": {
    "slideshow": {
     "slide_type": "subslide"
    }
   },
   "source": [
    "# ¿Es posible acceder a la información de contexto de la excepción?"
   ]
  },
  {
   "cell_type": "code",
   "execution_count": null,
   "metadata": {
    "slideshow": {
     "slide_type": "fragment"
    }
   },
   "outputs": [],
   "source": [
    "dicci = {0:\"Led Zeppelin\", 2:\"Deep Purple\", 3:\"Black Sabbath\"}\n",
    "\n",
    "try:\n",
    "    print ('Entramos al bloque try')\n",
    "    for x in range(0,4):\n",
    "        print (dicci[x])\n",
    "    print('Continuamos con el proceso..')\n",
    "except KeyError as exc:\n",
    "    dicci[x] = 'NUEVO'\n",
    "    datos_exc = exc\n",
    "    import sys\n",
    "    print(sys.exc_info())\n",
    "datos_exc"
   ]
  },
  {
   "cell_type": "markdown",
   "metadata": {
    "slideshow": {
     "slide_type": "slide"
    }
   },
   "source": [
    "# Objetos en Python"
   ]
  },
  {
   "cell_type": "code",
   "execution_count": null,
   "metadata": {
    "slideshow": {
     "slide_type": "fragment"
    }
   },
   "outputs": [],
   "source": [
    "class Jugador():\n",
    "    \"Define la entidad que representa a un jugador\"\n",
    "    \n",
    "    def __init__(self, nic, juego, plataforma=\"PS4\"):\n",
    "        self._nick = nic\n",
    "        self._juego = juego\n",
    "        self._plataforma = plataforma\n",
    "        self._puntaje = 0\n",
    "  \n",
    "    def get_nick(self):\n",
    "        return self._nick\n",
    "\n",
    "    def set_nick(self, nuevo_nick):\n",
    "        self._nick = nuevo_nick\n",
    "\n",
    "jugador = Jugador('Nico','FIFA')\n",
    "jugador.set_nick(\"Lionel\")\n",
    "print(jugador.get_nick())"
   ]
  },
  {
   "cell_type": "markdown",
   "metadata": {
    "slideshow": {
     "slide_type": "fragment"
    }
   },
   "source": [
    "- El método **__init__() se invoca automáticamente** al crear el objeto.\n",
    "- Es una buena práctica definir los docstrings\n",
    "- self\n",
    "- Público y privado."
   ]
  },
  {
   "cell_type": "markdown",
   "metadata": {
    "slideshow": {
     "slide_type": "subslide"
    }
   },
   "source": [
    "\n",
    "# Códigos secretos"
   ]
  },
  {
   "cell_type": "code",
   "execution_count": null,
   "metadata": {
    "slideshow": {
     "slide_type": "fragment"
    }
   },
   "outputs": [],
   "source": [
    "class CodigoSecreto:\n",
    "    '''   Textos con clave   '''\n",
    "\n",
    "    def __init__(self, texto_plano, clave_secreta):\n",
    "        self.__texto_plano = texto_plano\n",
    "        self.__clave_secreta = clave_secreta\n",
    "\n",
    "    def desencriptar(self, clave_secreta):\n",
    "        '''Solo se muestra el texto si la clave es correcta'''\n",
    "        if clave_secreta == self.__clave_secreta:\n",
    "            return self.__texto_plano\n",
    "        else:\n",
    "            return ''\n",
    "\n",
    "texto_secreto = CodigoSecreto(\"Lenguaje Python\", \"Bruce Springsteen\")\n",
    "print(texto_secreto.desencriptar(\"Bruce Springsteen\"))\n",
    "#texto_secreto.__texto_plano\n",
    "print(texto_secreto._CodigoSecreto__texto_plano)"
   ]
  },
  {
   "cell_type": "markdown",
   "metadata": {
    "slideshow": {
     "slide_type": "fragment"
    }
   },
   "source": [
    "¿Qué pasa si tenemos quiero imprimir desde fuera de la clase: **texto_secreto.__texto_plano**?"
   ]
  },
  {
   "cell_type": "markdown",
   "metadata": {
    "slideshow": {
     "slide_type": "fragment"
    }
   },
   "source": [
    "Probemos: print(texto_secreto._CodigoSecreto__texto_plano)"
   ]
  },
  {
   "cell_type": "markdown",
   "metadata": {
    "slideshow": {
     "slide_type": "subslide"
    }
   },
   "source": [
    "# Los símbolos de subrayados \n",
    "\n",
    "En este artículo se describe el [uso de underscores en Python](https://dbader.org/blog/meaning-of-underscores-in-python)\n",
    "\n",
    "## Algunos métodos especiales\n",
    "\n",
    "-  \\_\\_str__\n",
    "- \\_\\_lt__, \\_\\_gt__, \\_\\_le__, \\_\\_ge__ \n",
    "- \\_\\_eq__, \\_\\_ne__\n"
   ]
  },
  {
   "cell_type": "code",
   "execution_count": null,
   "metadata": {
    "slideshow": {
     "slide_type": "subslide"
    }
   },
   "outputs": [],
   "source": [
    "class Jugador:\n",
    "    \" Esta clase representa a un jugador\"\n",
    "    def __init__(self, nick, juego):\n",
    "        self._nick = nick\n",
    "        self._juego = juego\n",
    "        self._puntaje = 0\n",
    "\n",
    "    def get_nick(self):\n",
    "        return self._nick\n",
    "    \n",
    "    def __str__(self):\n",
    "        return (\"{} juega al {}\".format(self._nick, self._juego))\n",
    "\n",
    "    def __lt__(self, otro):\n",
    "        return (self._nick < otro.get_nick())\n",
    "\n",
    "    def __eq__(self, otro):\n",
    "        return (self._nick == otro.get_nick())\n",
    "\n",
    "    def __ne__(self, otro):\n",
    "        return (self._nick != otro.get_nick())\n",
    "\n",
    "nico = Jugador(\"Nico\", \"FIFA2020\")\n",
    "kun = Jugador(\"Kun\", \"CSGO\")\n",
    "print(nico)\n",
    "print(nico < kun)\n",
    "print(nico if nico == kun else kun)"
   ]
  },
  {
   "cell_type": "markdown",
   "metadata": {
    "slideshow": {
     "slide_type": "subslide"
    }
   },
   "source": [
    "# Jugadores de LOL y FIFA\n",
    "\n",
    "<img src=\"images/herencia.png\" alt=\"diagrama de clases herencia Python\" width=\"600px\" align=\"center\"/>\n",
    "\n",
    "\n",
    "- Un jugador de LOL \"es un\" Jugador.\n",
    "\n",
    "- La clase que hereda se denomina **clase derivada** y la clase de la cual se deriva se denomina **clase base**."
   ]
  },
  {
   "cell_type": "code",
   "execution_count": null,
   "metadata": {
    "slideshow": {
     "slide_type": "subslide"
    }
   },
   "outputs": [],
   "source": [
    "class Jugador:\n",
    "    def __init__(self, nombre, juego=\"Tetris\", tiene_equipo=False, equipo=None):\n",
    "            self.nombre = nombre\n",
    "            self.juego = juego\n",
    "            self.tiene_equipo = tiene_equipo\n",
    "            self.equipo = equipo\n",
    "    def jugar(self):\n",
    "            if self.tiene_equipo:\n",
    "                    print (f\"{self.nombre} juega en el equipo {self.equipo} al {self.juego}\")\n",
    "            else:\n",
    "                    print(f\"{self.nombre} juega solo al {self.juego}\")\n",
    "\n",
    "class JugadorDeFIFA(Jugador):\n",
    "    def __init__(self, nombre, equipo):\n",
    "            Jugador.__init__(self, nombre, \"PS4\", True, equipo)\n",
    "\n",
    "class JugadorDeLOL(Jugador):\n",
    "    def __init__(self, nombre, equipo):\n",
    "            Jugador.__init__(self, nombre, \"LOL\")\n",
    "            #super().__init__(nombre, \"LOL\")\n",
    "            \n",
    "nico = JugadorDeFIFA('Nico Villalba', \"Basilea\")\n",
    "nico.jugar()\n",
    "faker = JugadorDeLOL(\"Faker\", \"SK Telecom\")\n",
    "faker.jugar()"
   ]
  },
  {
   "cell_type": "markdown",
   "metadata": {
    "slideshow": {
     "slide_type": "subslide"
    }
   },
   "source": [
    "# ¿e-sports?\n",
    "\n",
    "\n",
    "<img src=\"images/herencia_multiple.png\"  alt=\"diagrama de clases herencia múltiple en Python\" width=\"700px\" align=\"center\"/>)\n",
    "\n",
    "\n",
    "- Un jugador de FIFA \"es un\" Jugador, pero también \"es un\" Deportista.\n",
    "\n",
    "- Python tiene **herencia múltiple**\n",
    " "
   ]
  },
  {
   "cell_type": "markdown",
   "metadata": {
    "slideshow": {
     "slide_type": "subslide"
    }
   },
   "source": [
    "# e-sports en Python\n"
   ]
  },
  {
   "cell_type": "code",
   "execution_count": null,
   "metadata": {
    "slideshow": {
     "slide_type": "fragment"
    }
   },
   "outputs": [],
   "source": [
    "class Jugador:\n",
    "    def __init__(self, nombre, juego=\"Tetris\", tiene_equipo= False, equipo=None):\n",
    "        self.nombre = nombre\n",
    "        self.juego = juego\n",
    "        self.tiene_equipo = tiene_equipo\n",
    "        self.equipo = equipo\n",
    "    def jugar(self):\n",
    "            if self.tiene_equipo:\n",
    "                    print (f\"{self.nombre} juega en el equipo {self.equipo} al {self.juego}\")\n",
    "            else:\n",
    "                    print(f\"{self.nombre} juega solo al {self.juego}\")\n",
    "class Deportista:\n",
    "    def __init__(self, nombre, equipo = \"Racing\"):\n",
    "        self.nombre = nombre\n",
    "        self.equipo = equipo\n",
    "    def jugar(self): \n",
    "        print (f\"Mi equipo es {self.equipo}\")\n",
    "\n",
    "class JugadorDeFIFA(Jugador, Deportista):\n",
    "    def __init__(self, nombre, equipo):\n",
    "        Jugador.__init__(self, nombre, \"PS4\", True, equipo)\n",
    "        Deportista.__init__(self,nombre, equipo)\n",
    "\n",
    "class JugadorDeLOL(Deportista, Jugador):\n",
    "    def __init__(self, nombre, equipo):\n",
    "        Jugador.__init__(self, nombre, \"LOL\")\n",
    "        Deportista.__init__(self, nombre, equipo)\n",
    "\n",
    "nico = JugadorDeFIFA('Nico Villalba', \"Basilea\")\n",
    "nico.jugar()\n",
    "faker = JugadorDeLOL(\"Faker\", \"SK Telecom\")\n",
    "faker.jugar()"
   ]
  },
  {
   "cell_type": "markdown",
   "metadata": {
    "slideshow": {
     "slide_type": "subslide"
    }
   },
   "source": [
    "# e-sports en Python\n",
    "\n",
    "\n",
    "- Ambas clases bases tienen definido un método **jugar**: en este caso, se toma el método de la clase más a la **izquierda** de la lista.\n",
    "- Por lo tanto, es MUY importante el orden en que se especifican las clases bases.\n",
    "- Más información en [documentación oficial](https://docs.python.org/3/tutorial/classes.html)\n"
   ]
  },
  {
   "cell_type": "markdown",
   "metadata": {
    "slideshow": {
     "slide_type": "fragment"
    }
   },
   "source": [
    "### MRO: Method Resolution Order "
   ]
  },
  {
   "cell_type": "code",
   "execution_count": null,
   "metadata": {
    "slideshow": {
     "slide_type": "fragment"
    }
   },
   "outputs": [],
   "source": [
    "JugadorDeLOL.__mro__"
   ]
  },
  {
   "cell_type": "markdown",
   "metadata": {
    "slideshow": {
     "slide_type": "subslide"
    }
   },
   "source": [
    "# ¿Qué diferencia hay entre villanos y _enemigos?"
   ]
  },
  {
   "cell_type": "code",
   "execution_count": null,
   "metadata": {
    "slideshow": {
     "slide_type": "fragment"
    }
   },
   "outputs": [],
   "source": [
    "class SuperHeroe():\n",
    "    villanos = []\n",
    "\n",
    "    def __init__(self, nombre, alias):\n",
    "            self._nombre = nombre\n",
    "            self._enemigos = []\n",
    "            "
   ]
  },
  {
   "cell_type": "markdown",
   "metadata": {
    "slideshow": {
     "slide_type": "fragment"
    }
   },
   "source": [
    "- **villanos** es una **variable de clase** mientras que **_enemigos** es una **variable de instancia**.\n",
    "- ¿Qué significa esto?"
   ]
  },
  {
   "cell_type": "markdown",
   "metadata": {
    "slideshow": {
     "slide_type": "subslide"
    }
   },
   "source": [
    "# Veamos el ejemplo completo:"
   ]
  },
  {
   "cell_type": "code",
   "execution_count": null,
   "metadata": {
    "slideshow": {
     "slide_type": "fragment"
    }
   },
   "outputs": [],
   "source": [
    "class SuperHeroe():\n",
    "    \"\"\" Esta clase  define a un superheroe \n",
    "    villanos:  representa a los enemigos de todos los superhéroes\n",
    "    \"\"\"  \n",
    "    villanos = []\n",
    "        \n",
    "    def __init__(self, nombre, alias):\n",
    "                self._nombre = nombre\n",
    "                self._enemigos = []\n",
    "                \n",
    "    def get_nombre(self):\n",
    "        return self._nombre\n",
    "  \n",
    "    def get_enemigos(self):\n",
    "        return self._enemigos\n",
    "        \n",
    "    def agregar_enemigo(self, otro_enemigo):\n",
    "        \"Agrega un enemigo a los enemigos del superhéroe\"\n",
    "        \n",
    "        self._enemigos.append(otro_enemigo)\n",
    "        SuperHeroe.villanos.append(otro_enemigo)"
   ]
  },
  {
   "cell_type": "code",
   "execution_count": null,
   "metadata": {
    "slideshow": {
     "slide_type": "subslide"
    }
   },
   "outputs": [],
   "source": [
    "# OJO que esta funcion  está FUERA de la clase\n",
    "def imprimo_villanos(nombre, lista_de_villanos):\n",
    "    \"imprime  la lista de todos los villanos de nombre\"\n",
    "    print(\"\\n\"+\"*\"*40)\n",
    "    print(f\"Los enemigos de {nombre}\")\n",
    "    print(\"*\"*40)\n",
    "    for malo in lista_de_villanos:\n",
    "        print(malo)\n",
    "        \n",
    "        \n",
    "batman = SuperHeroe( \"Bruce Wayne\", \"Batman\")\n",
    "ironman = SuperHeroe( \"Tony Stark\", \"ironman\")\n",
    "\n",
    "batman.agregar_enemigo(\"Joker\")\n",
    "batman.agregar_enemigo(\"Pinguino\")\n",
    "batman.agregar_enemigo(\"Gatubela\")\n",
    "\n",
    "ironman.agregar_enemigo(\"Whiplash\")\n",
    "ironman.agregar_enemigo(\"Thanos\")"
   ]
  },
  {
   "cell_type": "code",
   "execution_count": null,
   "metadata": {
    "slideshow": {
     "slide_type": "subslide"
    }
   },
   "outputs": [],
   "source": [
    "#imprimo_villanos(batman.get_nombre(), batman.get_enemigos())\n",
    "#imprimo_villanos(ironman.get_nombre(), ironman.get_enemigos())\n",
    "\n",
    "imprimo_villanos(\"todos los superhéroes\", SuperHeroe.villanos)"
   ]
  },
  {
   "cell_type": "markdown",
   "metadata": {
    "slideshow": {
     "slide_type": "slide"
    }
   },
   "source": [
    "# Propiedades"
   ]
  },
  {
   "cell_type": "code",
   "execution_count": null,
   "metadata": {
    "slideshow": {
     "slide_type": "fragment"
    }
   },
   "outputs": [],
   "source": [
    "class Demo:\n",
    "    def __init__(self):\n",
    "        self._x = 0\n",
    "\n",
    "    def getx(self):\n",
    "        print(\"estoy en get\")\n",
    "        return self._x\n",
    "\n",
    "    def setx(self, value):\n",
    "        print(\"estoy en set\")\n",
    "        self._x = value\n",
    "\n",
    "    def delx(self):\n",
    "        print(\"estoy en del\")\n",
    "        del self._x\n",
    "    \n",
    "    x = property(getx, setx)"
   ]
  },
  {
   "cell_type": "code",
   "execution_count": null,
   "metadata": {
    "slideshow": {
     "slide_type": "fragment"
    }
   },
   "outputs": [],
   "source": [
    "obj = Demo()\n",
    "obj.x = 10\n",
    "print(obj.x)"
   ]
  },
  {
   "cell_type": "markdown",
   "metadata": {
    "slideshow": {
     "slide_type": "subslide"
    }
   },
   "source": [
    "# La función property()\n",
    "**property()** crea una propiedad de la clase. \n",
    "```python\n",
    "\tproperty(fget=None, fset=None, fdel=None, doc=None)\n",
    "\n",
    "\tx = property(getx, setx, delx, \"x es una propiedad\")\n",
    "```"
   ]
  },
  {
   "cell_type": "markdown",
   "metadata": {
    "slideshow": {
     "slide_type": "fragment"
    }
   },
   "source": [
    "- Más info: https://docs.python.org/3/library/functions.html?highlight=property#property"
   ]
  },
  {
   "cell_type": "markdown",
   "metadata": {
    "slideshow": {
     "slide_type": "subslide"
    }
   },
   "source": [
    "# Decoradores"
   ]
  },
  {
   "cell_type": "markdown",
   "metadata": {
    "slideshow": {
     "slide_type": "fragment"
    }
   },
   "source": [
    "- Un decorador es una función que recibe una función como argumento y extiende el comportamiento de esta última función sin modificarla explícitamente."
   ]
  },
  {
   "cell_type": "markdown",
   "metadata": {
    "slideshow": {
     "slide_type": "fragment"
    }
   },
   "source": [
    "### RECORDAMOS: las funciones son objetos de primera clase\n",
    " \n",
    "- **¿Qué significa esto?** Pueden ser asignadas a variables, almacenadas en estructuras de datos, pasadas como argumentos a otras funciones e incluso retornadas como valores de otras funciones."
   ]
  },
  {
   "cell_type": "code",
   "execution_count": null,
   "metadata": {
    "slideshow": {
     "slide_type": "fragment"
    }
   },
   "outputs": [],
   "source": [
    "def decimos_hola(nombre):\n",
    "    return f\"Hola {nombre}!\"\n",
    "\n",
    "def decimos_chau(nombre):\n",
    "    return f\"Chau {nombre}!\"\n",
    "\n",
    "def saludo_a_Clau(saludo):\n",
    "    return saludo(\"Clau\")"
   ]
  },
  {
   "cell_type": "code",
   "execution_count": null,
   "metadata": {
    "slideshow": {
     "slide_type": "fragment"
    }
   },
   "outputs": [],
   "source": [
    "saludo_a_Clau(decimos_hola)\n",
    "saludo_a_Clau(decimos_chau)"
   ]
  },
  {
   "cell_type": "markdown",
   "metadata": {
    "slideshow": {
     "slide_type": "subslide"
    }
   },
   "source": [
    "# ¿Qué podemos decir de este ejemplo?\n",
    "- Ejemplo sacado de https://realpython.com/primer-on-python-decorators/"
   ]
  },
  {
   "cell_type": "code",
   "execution_count": null,
   "metadata": {
    "slideshow": {
     "slide_type": "fragment"
    }
   },
   "outputs": [],
   "source": [
    "def decorador(funcion):\n",
    "    def funcion_interna():\n",
    "        print(\"Antes de  invocar a la función.\")\n",
    "        funcion()\n",
    "        print(\"Después de invocar a la función.\")\n",
    "    \n",
    "    return funcion_interna\n",
    "\n",
    "def decimos_hola():\n",
    "    print(\"Hola!\")"
   ]
  },
  {
   "cell_type": "code",
   "execution_count": null,
   "metadata": {
    "slideshow": {
     "slide_type": "fragment"
    }
   },
   "outputs": [],
   "source": [
    "saludo = decorador(decimos_hola)"
   ]
  },
  {
   "cell_type": "markdown",
   "metadata": {
    "slideshow": {
     "slide_type": "fragment"
    }
   },
   "source": [
    "- ¿De qué tipo es saludo?"
   ]
  },
  {
   "cell_type": "code",
   "execution_count": null,
   "metadata": {
    "slideshow": {
     "slide_type": "fragment"
    }
   },
   "outputs": [],
   "source": [
    "saludo()"
   ]
  },
  {
   "cell_type": "markdown",
   "metadata": {
    "slideshow": {
     "slide_type": "subslide"
    }
   },
   "source": [
    "# Otra forma de escribir esto:\n"
   ]
  },
  {
   "cell_type": "code",
   "execution_count": null,
   "metadata": {
    "slideshow": {
     "slide_type": "fragment"
    }
   },
   "outputs": [],
   "source": [
    "def decorador(funcion):\n",
    "    def funcion_interna():\n",
    "        print(\"Antes de  invocar a la función.\")\n",
    "        funcion()\n",
    "        print(\"Después de invocar a la función.\")\n",
    "    return funcion_interna\n",
    "\n",
    "@decorador\n",
    "def decimos_hola():\n",
    "    print(\"Hola!\")"
   ]
  },
  {
   "cell_type": "code",
   "execution_count": null,
   "metadata": {
    "slideshow": {
     "slide_type": "fragment"
    }
   },
   "outputs": [],
   "source": [
    "decimos_hola()"
   ]
  },
  {
   "cell_type": "markdown",
   "metadata": {
    "slideshow": {
     "slide_type": "subslide"
    }
   },
   "source": [
    "# Es equivalente a: \n",
    "    \n",
    "```python\n",
    "decimos_hola = decorador(decimos_hola)\n",
    "```\n",
    "\n",
    "- [+Ínfo](https://realpython.com/primer-on-python-decorators/)\n",
    "- [+Info en español](https://recursospython.com/guias-y-manuales/decoradores/)"
   ]
  },
  {
   "cell_type": "markdown",
   "metadata": {
    "slideshow": {
     "slide_type": "subslide"
    }
   },
   "source": [
    "# @property"
   ]
  },
  {
   "cell_type": "code",
   "execution_count": null,
   "metadata": {
    "slideshow": {
     "slide_type": "fragment"
    }
   },
   "outputs": [],
   "source": [
    "class Demo:\n",
    "    def __init__(self):\n",
    "        self._x = 0\n",
    "\n",
    "    @property\n",
    "    def x(self):\n",
    "        return self._x\n",
    "\n",
    "obj = Demo()\n",
    "obj.x = 10 # Esto dará error: ¿por qué?\n",
    "print(obj.x)"
   ]
  },
  {
   "cell_type": "markdown",
   "metadata": {
    "slideshow": {
     "slide_type": "fragment"
    }
   },
   "source": [
    "- @property es un **decorador**: una función que recibe una función como argumento y retorna  otra función. \n",
    "\n",
    "- ¿Cuál es la función que estamos aplicando? ¿Y cuál es la que pasamos como argumento?\n",
    "- No podemos modificar la propiedad x. ¿Por qué?"
   ]
  },
  {
   "cell_type": "markdown",
   "metadata": {
    "slideshow": {
     "slide_type": "subslide"
    }
   },
   "source": [
    "# El ejemplo completo"
   ]
  },
  {
   "cell_type": "code",
   "execution_count": null,
   "metadata": {
    "slideshow": {
     "slide_type": "fragment"
    }
   },
   "outputs": [],
   "source": [
    "class Demo:\n",
    "    def __init__(self):\n",
    "        self._x = 0\n",
    "\n",
    "    @property\n",
    "    def x(self):\n",
    "        return self._x\n",
    "\n",
    "    @x.setter\n",
    "    def x(self, value):\n",
    "        self._x = value\n",
    "\n",
    "    @x.deleter\n",
    "    def x(self):\n",
    "        del self._x\n",
    "\n",
    "obj = Demo()\n",
    "obj.x = 10\n",
    "print(obj.x)\n",
    "del obj.x"
   ]
  },
  {
   "cell_type": "markdown",
   "metadata": {
    "slideshow": {
     "slide_type": "subslide"
    }
   },
   "source": [
    "# Métodos de clase\n",
    "\n",
    "- Se utiliza el decorador **@classmethod**.\n",
    "- Se usa **cls** en vez de **self**. ¿A qué hace referencia este argumento? "
   ]
  },
  {
   "cell_type": "code",
   "execution_count": null,
   "metadata": {
    "slideshow": {
     "slide_type": "fragment"
    }
   },
   "outputs": [],
   "source": [
    "class SuperHeroe():\n",
    "    villanos = []\n",
    "    \n",
    "    @classmethod\n",
    "    def limpio_villanos(cls, confirmo=False):\n",
    "        if confirmo:\n",
    "            cls.villanos = []\n",
    "        else:\n",
    "            return cls.villanos\n",
    "\n",
    "    def __init__(self, nombre, alias):\n",
    "            self._nombre = nombre\n",
    "            self._enemigos = []\n",
    "                     \n",
    "SuperHeroe.limpio_villanos()"
   ]
  },
  {
   "cell_type": "markdown",
   "metadata": {
    "slideshow": {
     "slide_type": "slide"
    }
   },
   "source": [
    "# Por último: archivos JSON"
   ]
  },
  {
   "cell_type": "code",
   "execution_count": null,
   "metadata": {
    "slideshow": {
     "slide_type": "fragment"
    }
   },
   "outputs": [],
   "source": [
    "import json\n",
    "\n",
    "archivo = open(\"ejemplos/bandas.txt\", \"w\")\n",
    "datos = [\n",
    "    {\"nombre\": \"William Campbell\", \"ciudad\": \"La Plata\", \"ref\": \"www.instagram.com/williamcampbellok\"},\n",
    "    {\"nombre\": \"Buendia\", \"ciudad\": \"La Plata\", \"ref\":\"https://buendia.bandcamp.com/\"},\n",
    "    {\"nombre\": \"Lúmine\", \"ciudad\": \"La Plata\", \"ref\": \"https://www.instagram.com/luminelp/\"}]\n",
    "json.dump(datos, archivo)\n",
    "archivo.close()"
   ]
  },
  {
   "cell_type": "markdown",
   "metadata": {
    "slideshow": {
     "slide_type": "fragment"
    }
   },
   "source": [
    "- ¿De qué tipo es la variable datos?"
   ]
  },
  {
   "cell_type": "code",
   "execution_count": null,
   "metadata": {
    "slideshow": {
     "slide_type": "subslide"
    }
   },
   "outputs": [],
   "source": [
    "# Ahora accedemos a los datos guardados\n",
    "import json\n",
    "\n",
    "archivo = open(\"ejemplos/bandas.txt\", \"r\")\n",
    "datos = json.load(archivo)\n",
    "\n",
    "datos_a_mostrar = \n",
    "print(datos_a_mostrar)json.dumps(datos, indent=4)\n",
    "#print(type(datos))\n",
    "archivo.close()"
   ]
  },
  {
   "cell_type": "markdown",
   "metadata": {
    "slideshow": {
     "slide_type": "fragment"
    }
   },
   "source": [
    "- ¿De qué tipo de datos? ¿Y datos_a_mostrar?"
   ]
  },
  {
   "cell_type": "markdown",
   "metadata": {
    "slideshow": {
     "slide_type": "subslide"
    }
   },
   "source": [
    "# Otro formato: csv\n",
    "\n",
    "Dataset obtenido de https://www.kaggle.com/\n"
   ]
  },
  {
   "cell_type": "code",
   "execution_count": null,
   "metadata": {
    "slideshow": {
     "slide_type": "fragment"
    }
   },
   "outputs": [],
   "source": [
    "import csv\n",
    "# abro el dataset\n",
    "\n",
    "with open('ejemplos/netflix_titles.csv', encoding='utf-8') as data_set:\n",
    "    reader = csv.reader(data_set, delimiter=',')\n",
    "    # creo el archivo .csv de salida\n",
    "    encabezado = next(reader)\n",
    "    print(encabezado)\n",
    "    \n",
    "    for fila in reader:\n",
    "        if \"Argentina\" in fila[5] and fila[7] == \"2020\":\n",
    "             print(fila[2])"
   ]
  },
  {
   "cell_type": "markdown",
   "metadata": {
    "slideshow": {
     "slide_type": "fragment"
    }
   },
   "source": [
    "- Iteradores: **next()**"
   ]
  },
  {
   "cell_type": "markdown",
   "metadata": {
    "slideshow": {
     "slide_type": "subslide"
    }
   },
   "source": [
    "# Un último ejemplo"
   ]
  },
  {
   "cell_type": "code",
   "execution_count": null,
   "metadata": {
    "slideshow": {
     "slide_type": "fragment"
    }
   },
   "outputs": [],
   "source": [
    "import csv\n",
    "# abro el dataset\n",
    "\n",
    "with open('ejemplos/netflix_titles.csv', encoding='utf-8') as data_set:\n",
    "    reader = csv.reader(data_set, delimiter=',')\n",
    "    # creo el archivo .csv de salida\n",
    "    with open('ejemplos/titulos2020.csv', 'w', encoding='utf-8') as salida:\n",
    "        writer = csv.writer(salida)\n",
    "        \n",
    "        # pongo el encabezado\n",
    "        writer.writerow(reader.__next__())\n",
    "        \n",
    "        # escribo sólo los titulos estrenados en 2020\n",
    "        writer.writerows(filter(lambda titulo: titulo[7] == '2020', reader))\n"
   ]
  },
  {
   "cell_type": "markdown",
   "metadata": {
    "slideshow": {
     "slide_type": "fragment"
    }
   },
   "source": [
    "- Escribimos csv.\n",
    "- ¿writer.writerows(filter(lambda titulo: titulo[7] == '2020', reader))?"
   ]
  },
  {
   "cell_type": "markdown",
   "metadata": {
    "slideshow": {
     "slide_type": "slide"
    }
   },
   "source": [
    "# Nos vemos en la próxima ...\n"
   ]
  }
 ],
 "metadata": {
  "celltoolbar": "Slideshow",
  "kernelspec": {
   "display_name": "Python 3 (ipykernel)",
   "language": "python",
   "name": "python3"
  },
  "language_info": {
   "codemirror_mode": {
    "name": "ipython",
    "version": 3
   },
   "file_extension": ".py",
   "mimetype": "text/x-python",
   "name": "python",
   "nbconvert_exporter": "python",
   "pygments_lexer": "ipython3",
   "version": "3.8.10"
  }
 },
 "nbformat": 4,
 "nbformat_minor": 4
}
