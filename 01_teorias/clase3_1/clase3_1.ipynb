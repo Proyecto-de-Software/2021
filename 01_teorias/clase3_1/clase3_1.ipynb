{
 "cells": [
  {
   "cell_type": "markdown",
   "metadata": {
    "slideshow": {
     "slide_type": "slide"
    }
   },
   "source": [
    "# Proyecto de Software\n",
    "\n",
    "\n",
    "## Cursada 2021\n"
   ]
  },
  {
   "cell_type": "markdown",
   "metadata": {
    "slideshow": {
     "slide_type": "slide"
    }
   },
   "source": [
    "# ¿Qué abordaremos en este video?\n",
    "\n",
    "- Una introducción a Python.\n",
    "    - Tipos básicos\n",
    "    - Funciones"
   ]
  },
  {
   "cell_type": "markdown",
   "metadata": {
    "slideshow": {
     "slide_type": "slide"
    }
   },
   "source": [
    "\n",
    "# Programación en el servidor\n",
    "\n",
    "\n",
    "<img src=\"images/backendPython.png\" alt=\"Backend developer-roadmap 2020\" width=\"700px\" align=\"center\" />\n",
    "\n",
    "[Roadmap 2021](https://github.com/kamranahmedse/developer-roadmap)\n",
    "\n",
    "\n"
   ]
  },
  {
   "cell_type": "markdown",
   "metadata": {
    "slideshow": {
     "slide_type": "slide"
    }
   },
   "source": [
    "\n",
    "# Nosotros usaremos Python\n",
    "\n",
    "## ¿Por qué?\n",
    "\n",
    "- Es un lenguaje que en los últimos años ha crecido de manera constante. \n",
    "    - [Stack Overflow Trends\n",
    "](https://insights.stackoverflow.com/trends?tags=java%2Cc%2Cc%2B%2B%2Cpython%2Cc%23%2Cvb.net%2Cjavascript%2Cassembly%2Cphp%2Cperl%2Cruby%2Cvb%2Cswift%2Cr%2Cobjective-c)\n",
    "    - [https://githut.info/](https://githut.info/)\n",
    "\n"
   ]
  },
  {
   "cell_type": "markdown",
   "metadata": {
    "slideshow": {
     "slide_type": "slide"
    }
   },
   "source": [
    "\n",
    "# Hablemos de Python ...\n",
    "\n",
    "- Desarrollado por [Guido Van Rossum](https://es.wikipedia.org/wiki/Guido_van_Rossum) en el centro de investigación en Matemáticas CWI en Países Bajos.\n",
    "- En febrero se cumplieron [30 años de su aparición](https://twitter.com/sfermigier/status/1362084435999551493).\n",
    "- El nombre proviene del grupo de cómicos ingleses [Monty Python](https://es.wikipedia.org/wiki/Monty_Python)\n",
    "\n",
    "\n"
   ]
  },
  {
   "cell_type": "markdown",
   "metadata": {
    "slideshow": {
     "slide_type": "slide"
    }
   },
   "source": [
    "\n",
    "# Documentación y referencias\n",
    "\n",
    "- Sitio oficial: http://python.org/\n",
    "- Documentación en español: https://wiki.python.org/moin/SpanishLanguage\n",
    "- Python Argentina: http://python.org.ar/\n",
    "- Otras referencias:\n",
    "    - https://docs.python-guide.org/\n",
    "    - https://realpython.com/\n",
    "\n",
    "**IMPORTANTE**: en los tutoriales y cursos en línea chequear la **versión** de Python. \n",
    " "
   ]
  },
  {
   "cell_type": "markdown",
   "metadata": {
    "slideshow": {
     "slide_type": "slide"
    }
   },
   "source": [
    "\n",
    "# Características del lenguaje\n",
    "\n",
    "Es un lenguaje de alto nivel, fácil de aprender. Muy expresivo y legible. "
   ]
  },
  {
   "cell_type": "markdown",
   "metadata": {
    "slideshow": {
     "slide_type": "fragment"
    }
   },
   "source": [
    "```python\n",
    "numero_aleatorio = random.randrange(5)\n",
    "gane = False\n",
    "print(\"Tenés 5 intentos para adivinar un entre 0 y 99\")\n",
    "intento = 1\n",
    "\n",
    "while intento < 6 and not gane:\n",
    "    numero_ingresado = int(input('Ingresa tu número: '))\n",
    "    if numero_ingresado == numero_aleatorio:\n",
    "        print('Ganaste! y necesitaste {} intentos!!!'.format(intento))\n",
    "        gane = True\n",
    "    else:\n",
    "        print('Mmmm ... No.. ese número no es... Seguí intentando.')\n",
    "        intento += 1\n",
    "if not gane:\n",
    "    print('\\n Perdiste :(\\n El número era: {}'.format(numero_aleatorio))\n",
    "\n",
    "```\n",
    "- Sintaxis muy clara\n"
   ]
  },
  {
   "cell_type": "markdown",
   "metadata": {
    "slideshow": {
     "slide_type": "slide"
    }
   },
   "source": [
    "# Importante: la legibilidad\n",
    "\n",
    "- Beautiful is better than ugly.\n",
    "- Explicit is better than implicit.\n",
    "- Simple is better than complex.\n",
    "- Complex is better than complicated.\n",
    "- Flat is better than nested.\n",
    "- Sparse is better than dense.\n",
    "- Readability counts.\n",
    "\n",
    "- ... [The Zen of Python](https://www.python.org/dev/peps/pep-0020/)"
   ]
  },
  {
   "cell_type": "markdown",
   "metadata": {
    "slideshow": {
     "slide_type": "slide"
    }
   },
   "source": [
    "# Python Enhancement Proposals (PEP)\n",
    "\n",
    "- Las PEP son documentos que proporcionan información a la comunidad de Python sobre distintas características del lenguaje, novedades en las distintas versiones, guías de codificación, etc.\n",
    "\n",
    "- La [PEP 0](https://www.python.org/dev/peps/#introduction) contiene el indice de todas las PEP.\n",
    "- La [PEP 20](https://www.python.org/dev/peps/pep-0020/): el Zen de Python...\n",
    "\n"
   ]
  },
  {
   "cell_type": "markdown",
   "metadata": {
    "slideshow": {
     "slide_type": "subslide"
    }
   },
   "source": [
    "#  Guías de estilo de codificación\n",
    "\n",
    "**\"El código es leído muchas más veces de lo que es escrito\"** ( Guido Van Rossum)\n",
    "\n",
    "- Están especificadas en la [PEP 8](https://www.python.org/dev/peps/pep-0008/)\n",
    "\n",
    "- Hay guías sobre la [indentación](https://www.python.org/dev/peps/pep-0008/#indentation), [convenciones sobre los nombres](https://www.python.org/dev/peps/pep-0008/#naming-conventions), etc.  \n",
    "\n",
    "- Algunos IDEs chequean que se respeten estas guías.\n",
    "- Su adopción es MUY importante cuando se comparte el código."
   ]
  },
  {
   "cell_type": "markdown",
   "metadata": {
    "slideshow": {
     "slide_type": "subslide"
    }
   },
   "source": [
    "# Características del lenguaje (cont.)\n",
    "\n",
    "- Es **interpretado**, **multiplataforma** y **multiparadigma**: ¿qué significa?\n",
    "- Posee tipado dinámico y fuerte. \n",
    "- Tiene un manejo eficiente de estructuras de datos de alto nivel. "
   ]
  },
  {
   "cell_type": "markdown",
   "metadata": {
    "slideshow": {
     "slide_type": "slide"
    }
   },
   "source": [
    "# Primeros pasos \n",
    "\n",
    "- Usar [intérpretes en línea](https://repl.it/languages/python3).\n",
    "- Descargar intérprete desde el [sitio oficial](https://www.python.org/).\n",
    "\n",
    "- Para **ejecutar** código Python:\n",
    "    - Usamos la consola de Python: donde se utiliza un modo interactivo y obtener una respuesta por cada línea. \n",
    "    - Usamos un IDE: como en cualquier otro lenguaje, se escribe el código en un archivo de texto y luego se invoca al intérprete para que lo ejecute.\n",
    "- [+Info en las guías del Seminario de Python](https://python-unlp.github.io/guides//)  "
   ]
  },
  {
   "cell_type": "markdown",
   "metadata": {
    "slideshow": {
     "slide_type": "subslide"
    }
   },
   "source": [
    "# Algunas consideraciones \n",
    "\n",
    "- Se pueden utilizar [entornos virtuales](https://docs.python.org/3/tutorial/venv.html).\n",
    "    - [+Info](https://proyecto-de-software.github.io/2021/guias/07_entornos_virtuales/)\n",
    "- Existe un gestor de paquetes que facilita la instalación de las distintas librerías: [pip](https://pypi.org/project/pip/).\n",
    "    - [+Info](https://proyecto-de-software.github.io/2021/guias/06_manejo_de_paquetes/)\n"
   ]
  },
  {
   "cell_type": "markdown",
   "metadata": {
    "slideshow": {
     "slide_type": "slide"
    }
   },
   "source": [
    "#  Estamos usando [Jupyter Lab](https://jupyter.org/)"
   ]
  },
  {
   "cell_type": "code",
   "execution_count": null,
   "metadata": {
    "slideshow": {
     "slide_type": "fragment"
    }
   },
   "outputs": [],
   "source": [
    "# Adivina adivinador....\n",
    "import random\n",
    "numero_aleatorio = random.randrange(5)\n",
    "gane = False\n",
    "\n",
    "print(\"Tenés 3 intentos para adivinar un entre 0 y 4\")\n",
    "intento = 1\n",
    "\n",
    "while intento < 3 and not gane:\n",
    "    numero_ingresado = int(input('Ingresa tu número: '))\n",
    "    if numero_ingresado == numero_aleatorio:\n",
    "        print('Ganaste! y necesitaste {} intentos!!!'.format(intento))\n",
    "        gane = True\n",
    "    else:\n",
    "        print('Mmmm ... No.. ese número no es... Seguí intentando.')\n",
    "        intento += 1\n",
    "if not gane:\n",
    "    print('\\n Perdiste :(\\n El número era: {}'.format(numero_aleatorio))"
   ]
  },
  {
   "cell_type": "markdown",
   "metadata": {
    "slideshow": {
     "slide_type": "slide"
    }
   },
   "source": [
    "# Empezamos de a poco ...\n"
   ]
  },
  {
   "cell_type": "markdown",
   "metadata": {
    "slideshow": {
     "slide_type": "fragment"
    }
   },
   "source": [
    "- Las variables no se declaran. \n",
    "    - Se crean **dinámicamente** cuando se les asigna un valor.\n",
    "- Pueden cambiar de tipo a lo largo del programa.\n",
    "    - Python cuenta con **tipado dinámico**"
   ]
  },
  {
   "cell_type": "markdown",
   "metadata": {
    "slideshow": {
     "slide_type": "subslide"
    }
   },
   "source": [
    "- Las variables permiten referenciar a los objetos almacenados en la memoria. \n",
    "- Cada objeto tiene asociado **un tipo, un valor y una identidad**.\n",
    "    - La identidad actúa como un puntero a la posición de memoria del  objeto.\n",
    "\n",
    "- Una vez que se crea un objeto, su identidad y tipo no se pueden cambiar.\n",
    "\n",
    "- Podemos obtener la identidad de un objeto con la función **id()**."
   ]
  },
  {
   "cell_type": "code",
   "execution_count": null,
   "metadata": {
    "slideshow": {
     "slide_type": "fragment"
    }
   },
   "outputs": [],
   "source": [
    "a = \"hola\"\n",
    "b = a\n",
    "c = \"hola \"\n",
    "print(a, b, c)\n",
    "\n",
    "print(id(a), id(b))"
   ]
  },
  {
   "cell_type": "markdown",
   "metadata": {
    "slideshow": {
     "slide_type": "slide"
    }
   },
   "source": [
    "# Sentencia **import**"
   ]
  },
  {
   "cell_type": "code",
   "execution_count": null,
   "metadata": {
    "slideshow": {
     "slide_type": "fragment"
    }
   },
   "outputs": [],
   "source": [
    "import string\n",
    "import random\n",
    "letras = string.ascii_lowercase\n",
    "num = random.randrange(4)\n",
    "num\n",
    "#print(random.choice(letras))"
   ]
  },
  {
   "cell_type": "code",
   "execution_count": null,
   "metadata": {
    "slideshow": {
     "slide_type": "fragment"
    }
   },
   "outputs": [],
   "source": [
    "from math import sqrt\n",
    "raiz = sqrt(16)\n",
    "print(raiz)"
   ]
  },
  {
   "cell_type": "markdown",
   "metadata": {
    "slideshow": {
     "slide_type": "fragment"
    }
   },
   "source": [
    "random.choice() vs. sqrt()\n",
    "\n",
    "¿Por qué no math.sqrt() o choice()?"
   ]
  },
  {
   "cell_type": "markdown",
   "metadata": {
    "slideshow": {
     "slide_type": "slide"
    }
   },
   "source": [
    "# Un poco más ...\n"
   ]
  },
  {
   "cell_type": "code",
   "execution_count": null,
   "metadata": {
    "slideshow": {
     "slide_type": "fragment"
    }
   },
   "outputs": [],
   "source": [
    "# Se usan triple comillas para cadenas de más de una línea\n",
    "print(\"\"\" \n",
    "    La computadora ha pensado un número en un rango de 0 a 4. \n",
    "    Tenés 5 intentos para adivinarlo.\n",
    "    ¿Lo intentás?\n",
    "\"\"\")"
   ]
  },
  {
   "cell_type": "code",
   "execution_count": null,
   "metadata": {
    "slideshow": {
     "slide_type": "fragment"
    }
   },
   "outputs": [],
   "source": [
    "valor = input('Ingresa algo ')\n",
    "print(type(valor))"
   ]
  },
  {
   "cell_type": "markdown",
   "metadata": {
    "slideshow": {
     "slide_type": "slide"
    }
   },
   "source": [
    "# Cadenas con **format**\n"
   ]
  },
  {
   "cell_type": "code",
   "execution_count": null,
   "metadata": {
    "slideshow": {
     "slide_type": "fragment"
    }
   },
   "outputs": [],
   "source": [
    "intento = 3\n",
    "print('Hola {} !!! Ganaste! y necesitaste {} intentos!!!'.format(\"claudia\", intento))"
   ]
  },
  {
   "cell_type": "code",
   "execution_count": null,
   "metadata": {
    "slideshow": {
     "slide_type": "fragment"
    }
   },
   "outputs": [],
   "source": [
    "x = 4\n",
    "print(\"{0:2d} {1:3d} {2:4d}\".format(x, x*x, x*x*x))"
   ]
  },
  {
   "cell_type": "markdown",
   "metadata": {
    "slideshow": {
     "slide_type": "subslide"
    }
   },
   "source": [
    "# Los f-String\n",
    "\n",
    "- Fueron introducidos a partir de la versión 3.6.\n",
    "- Ver la [PEP 498](https://www.python.org/dev/peps/pep-0498/)\n",
    "- [+Info](https://docs.python.org/3/reference/lexical_analysis.html#f-strings) en la documentación oficial\n",
    "- Una forma más sencilla de usar el format:"
   ]
  },
  {
   "cell_type": "code",
   "execution_count": null,
   "metadata": {
    "slideshow": {
     "slide_type": "fragment"
    }
   },
   "outputs": [],
   "source": [
    "nombre = \"Claudia\"\n",
    "print(f'Hola {nombre} !!! Ganaste! y necesitaste {intento} intentos!!!')"
   ]
  },
  {
   "cell_type": "code",
   "execution_count": null,
   "metadata": {
    "slideshow": {
     "slide_type": "slide"
    }
   },
   "outputs": [],
   "source": [
    "cad1 = \"Cadena alineada a izquierda\"\n",
    "cad2 = \"Cadena alineada a derecha\"\n",
    "cad3 = \"Cadena centrada\"\n",
    "print(f\"\\n{cad1:<30}\\n{cad2:>30}\")\n",
    "print(f\"\\n{cad3:^30})\")\n",
    "print(f\"\\n{cad3:*^30}\")"
   ]
  },
  {
   "cell_type": "markdown",
   "metadata": {
    "slideshow": {
     "slide_type": "slide"
    }
   },
   "source": [
    "# Importante: ¡la indentación!\n"
   ]
  },
  {
   "cell_type": "code",
   "execution_count": null,
   "metadata": {
    "slideshow": {
     "slide_type": "fragment"
    }
   },
   "outputs": [],
   "source": [
    "import string\n",
    "import random\n",
    "letras = string.ascii_lowercase\n",
    "letra = random.choice(letras)\n",
    "if letra  == \"A\":\n",
    "    print(\"Adivinaste\")\n",
    " else:\n",
    "    print('Mmmm ... No es una A... Seguí intentando.')\n"
   ]
  },
  {
   "cell_type": "markdown",
   "metadata": {
    "slideshow": {
     "slide_type": "subslide"
    }
   },
   "source": [
    "\n",
    "## Tipos de datos\n",
    "- Tipos predefinidos: (Built-In Data Types)\n",
    "\n",
    "    - Números (enteros, flotantes y complejos)\n",
    "    - Booleanos\n",
    "    - Cadenas de texto\n",
    "    - Listas, tuplas, diccionarios y conjuntos."
   ]
  },
  {
   "cell_type": "markdown",
   "metadata": {
    "slideshow": {
     "slide_type": "fragment"
    }
   },
   "source": [
    "\n",
    "```python\n",
    "gane = False\n",
    "texto_1 = 'Adivinaste!'\n",
    "intento = 1\n",
    "temperatura = 17.5\n",
    "```\n",
    "\n",
    "- ¿Qué nos indica un tipo de datos?"
   ]
  },
  {
   "cell_type": "markdown",
   "metadata": {
    "slideshow": {
     "slide_type": "subslide"
    }
   },
   "source": [
    "# Colecciones básicas"
   ]
  },
  {
   "cell_type": "code",
   "execution_count": null,
   "metadata": {
    "slideshow": {
     "slide_type": "fragment"
    }
   },
   "outputs": [],
   "source": [
    "cadena = \"Python\"\n",
    "lista = [1, 2, \"hola\", [1, 2], True]\n",
    "tupla = (1, 2, \"hola\", lista, (1,2), False)\n",
    "diccionario = {0: lista, \"tupla\": tupla}\n",
    "\n",
    "print(cadena[0])\n",
    "print(lista[0])\n",
    "print(tupla[0])\n",
    "print(diccionario[0])\n",
    "      "
   ]
  },
  {
   "cell_type": "markdown",
   "metadata": {
    "slideshow": {
     "slide_type": "slide"
    }
   },
   "source": [
    "# Listas, tuplas, diccionarios\n",
    "\n",
    "- Mutables e inmutables\n",
    "\n",
    "```python\n",
    "cadena = \"Python\"\n",
    "lista = [1, 2, \"hola\", [1, 2], True]\n",
    "tupla = (1, 2, \"hola\", lista, (1,2), False)\n",
    "diccionario = {\"lista\": lista, \"tupla\": tupla}\n",
    "```\n",
    "- ¿Modificamos estas secuencias?"
   ]
  },
  {
   "cell_type": "code",
   "execution_count": null,
   "metadata": {
    "slideshow": {
     "slide_type": "fragment"
    }
   },
   "outputs": [],
   "source": [
    "tupla[0]= \"A\"\n",
    "tupla"
   ]
  },
  {
   "cell_type": "markdown",
   "metadata": {
    "slideshow": {
     "slide_type": "slide"
    }
   },
   "source": [
    "# slicing\n",
    "\n",
    "- El operador **:** permite obtener subsecuencia.\n",
    "- El formato es **secuencia[inicio:fin]**\n",
    "- No incluye al elemento cuyo índice es **fin**.\n",
    "- **[:]** devuelve  toda la secuencia.\n",
    "- Si los índices son negativos, se recorre de derecha a izquierda.\n",
    "\n"
   ]
  },
  {
   "cell_type": "code",
   "execution_count": null,
   "metadata": {
    "slideshow": {
     "slide_type": "fragment"
    }
   },
   "outputs": [],
   "source": [
    "cadena = \"Python\"\n",
    "lista = [1, 2, \"hola\", [1, 2], True]\n",
    "#print(cadena[1:])\n",
    "print(lista[:-2])"
   ]
  },
  {
   "cell_type": "markdown",
   "metadata": {
    "slideshow": {
     "slide_type": "subslide"
    }
   },
   "source": [
    "# La cantidad de elementos..."
   ]
  },
  {
   "cell_type": "code",
   "execution_count": null,
   "metadata": {
    "slideshow": {
     "slide_type": "fragment"
    }
   },
   "outputs": [],
   "source": [
    "print(len(cadena))\n",
    "print(len(lista))\n"
   ]
  },
  {
   "cell_type": "markdown",
   "metadata": {
    "slideshow": {
     "slide_type": "slide"
    }
   },
   "source": [
    "# Son todas referencias..."
   ]
  },
  {
   "cell_type": "code",
   "execution_count": null,
   "metadata": {
    "slideshow": {
     "slide_type": "fragment"
    }
   },
   "outputs": [],
   "source": [
    "rock = [\"Riff\", \"La Renga\", \"La Torre\"]\n",
    "blues = [\"La Mississippi\", \"Memphis\"]\n",
    "\n",
    "musica = rock\n",
    "\n",
    "rock.append(\"Divididos\")\n",
    "\n",
    "print(musica)"
   ]
  },
  {
   "cell_type": "code",
   "execution_count": null,
   "metadata": {
    "slideshow": {
     "slide_type": "fragment"
    }
   },
   "outputs": [],
   "source": [
    "print(id(musica))\n",
    "print(id(rock))\n",
    "print(id(blues))"
   ]
  },
  {
   "cell_type": "markdown",
   "metadata": {
    "slideshow": {
     "slide_type": "fragment"
    }
   },
   "source": [
    "### Tarea para el hogar...\n",
    "\n",
    "¿Cómo hacemos para  copiar a otra zona de  memoria?"
   ]
  },
  {
   "cell_type": "markdown",
   "metadata": {
    "slideshow": {
     "slide_type": "subslide"
    }
   },
   "source": [
    "# De  texto a listas ..."
   ]
  },
  {
   "cell_type": "code",
   "execution_count": null,
   "metadata": {
    "slideshow": {
     "slide_type": "fragment"
    }
   },
   "outputs": [],
   "source": [
    "palabras = \"En esta clase aparecen grandes bandas\".split(\" \")\n",
    "palabras"
   ]
  },
  {
   "cell_type": "markdown",
   "metadata": {
    "slideshow": {
     "slide_type": "slide"
    }
   },
   "source": [
    "# Estructuras de control: sentencias condicionales\n",
    "\n",
    "- if\n",
    "- if .. else\n",
    "- if .. elif.. elif.. else\n",
    "- A if C else B"
   ]
  },
  {
   "cell_type": "code",
   "execution_count": null,
   "metadata": {
    "slideshow": {
     "slide_type": "fragment"
    }
   },
   "outputs": [],
   "source": [
    "criptos = [\"DAI\", \"USDT\"]\n",
    "cripto = \"BTC\"\n",
    "tipo_cripto = \"estable\" if cripto in criptos  else \"cambiante\"\n",
    "print(f\"{cripto} es {tipo_cripto}\")"
   ]
  },
  {
   "cell_type": "markdown",
   "metadata": {
    "slideshow": {
     "slide_type": "slide"
    }
   },
   "source": [
    "**IMPORTANTE**: Python utiliza la **evaluación con circuito corto**.\n"
   ]
  },
  {
   "cell_type": "code",
   "execution_count": null,
   "metadata": {
    "slideshow": {
     "slide_type": "fragment"
    }
   },
   "outputs": [],
   "source": [
    "x = 1\n",
    "y = 0\n",
    "if True or x/y:\n",
    "    print(\"Mmmm raro...\")\n",
    "else:\n",
    "    print(\"nada\")\n",
    "    \n"
   ]
  },
  {
   "cell_type": "markdown",
   "metadata": {
    "slideshow": {
     "slide_type": "slide"
    }
   },
   "source": [
    "# Estructuras de control: iteraciones\n",
    "\n",
    "- while\n",
    "- for .. in"
   ]
  },
  {
   "cell_type": "code",
   "execution_count": null,
   "metadata": {
    "slideshow": {
     "slide_type": "fragment"
    }
   },
   "outputs": [],
   "source": [
    "i = 5\n",
    "while i >0:\n",
    "    print(i)\n",
    "    i -= 1"
   ]
  },
  {
   "cell_type": "code",
   "execution_count": null,
   "metadata": {
    "slideshow": {
     "slide_type": "fragment"
    }
   },
   "outputs": [],
   "source": [
    "for num in range(2, 5):\n",
    "    print(num)"
   ]
  },
  {
   "cell_type": "code",
   "execution_count": null,
   "metadata": {
    "slideshow": {
     "slide_type": "fragment"
    }
   },
   "outputs": [],
   "source": [
    "dias = [\"domingo\", \"lunes\", \"martes\", \"miércoles\", \"jueves\", \"viernes\", \"sábado\"]\n",
    "for d in dias:\n",
    "    print(d)\n"
   ]
  },
  {
   "cell_type": "markdown",
   "metadata": {
    "slideshow": {
     "slide_type": "slide"
    }
   },
   "source": [
    "# Definición por comprensión\n"
   ]
  },
  {
   "cell_type": "code",
   "execution_count": null,
   "metadata": {
    "slideshow": {
     "slide_type": "fragment"
    }
   },
   "outputs": [],
   "source": [
    "cuadrados = [x**2 for x in range(10)]\n",
    "print(cuadrados)\n",
    "\n",
    "pares = [x for x in cuadrados if x % 2 == 0]\n",
    "print(pares)\n"
   ]
  },
  {
   "cell_type": "code",
   "execution_count": null,
   "metadata": {
    "slideshow": {
     "slide_type": "fragment"
    }
   },
   "outputs": [],
   "source": [
    "dicci = dict ([(x, x**2) for x in (2, 4, 6)]) \n",
    "print(dicci)"
   ]
  },
  {
   "cell_type": "markdown",
   "metadata": {
    "slideshow": {
     "slide_type": "slide"
    }
   },
   "source": [
    "# Conjuntos en Python\n",
    "\n",
    "- Un conjunto es una colección de datos heterogéna, **desordenada**, **NO indexada** y **sin elementos duplicados**."
   ]
  },
  {
   "cell_type": "code",
   "execution_count": null,
   "metadata": {
    "slideshow": {
     "slide_type": "fragment"
    }
   },
   "outputs": [],
   "source": [
    "bandas = {\"AC/DC\", \"Metallica\", \"Greta Van Fleet\", \"Soda Stéreo\", \"Los Piojos\"}\n",
    "type(bandas)"
   ]
  },
  {
   "cell_type": "code",
   "execution_count": null,
   "metadata": {
    "slideshow": {
     "slide_type": "fragment"
    }
   },
   "outputs": [],
   "source": [
    "letras = set(\"alabanza\")\n",
    "letras"
   ]
  },
  {
   "cell_type": "markdown",
   "metadata": {
    "slideshow": {
     "slide_type": "subslide"
    }
   },
   "source": [
    "# Operaciones"
   ]
  },
  {
   "cell_type": "code",
   "execution_count": null,
   "metadata": {
    "slideshow": {
     "slide_type": "fragment"
    }
   },
   "outputs": [],
   "source": [
    "bandas = {\"AC/DC\", \"Metallica\", \"Greta Van Fleet\", \"Soda Stéreo\", \"Los Piojos\"}\n",
    "bandas_nacionales = set((\"Soda Stéreo\", \"La Renga\", \"Los Piojos\"))\n",
    "\n",
    "print(\"Foo Fighters\" in bandas)\n",
    "\n",
    "todos = bandas | bandas_nacionales\n",
    "print(todos)\n",
    "\n",
    "algunos = bandas & bandas_nacionales\n",
    "print(algunos)\n",
    "\n",
    "algunos1 = bandas - bandas_nacionales\n",
    "print(algunos1)\n"
   ]
  },
  {
   "cell_type": "markdown",
   "metadata": {
    "slideshow": {
     "slide_type": "fragment"
    }
   },
   "source": [
    "## Tarea para el hogar ...\n",
    "1. ¿Qué diferencias hay entre **x = {}** y **x = set()** ?\n",
    "2. ¿Cómo recorremos un dicionario? "
   ]
  },
  {
   "cell_type": "markdown",
   "metadata": {
    "slideshow": {
     "slide_type": "slide"
    }
   },
   "source": [
    "# Funciones "
   ]
  },
  {
   "cell_type": "code",
   "execution_count": null,
   "metadata": {
    "slideshow": {
     "slide_type": "fragment"
    }
   },
   "outputs": [],
   "source": [
    "import string \n",
    "import random\n",
    "\n",
    "def generar_clave(largo_clave):\n",
    "    clave = ''\n",
    "    for c in range(largo_clave):\n",
    "        clave  += random.choice(letras)\n",
    "    return clave\n",
    "\n",
    "letras = string.ascii_lowercase\n",
    "letras += string.ascii_uppercase\n",
    "letras += string.digits\n",
    "\n",
    "mi_clave = generar_clave(8)\n",
    "print(mi_clave)"
   ]
  },
  {
   "cell_type": "markdown",
   "metadata": {
    "slideshow": {
     "slide_type": "slide"
    }
   },
   "source": [
    "# Un poco más sobre funciones"
   ]
  },
  {
   "cell_type": "code",
   "execution_count": null,
   "metadata": {
    "slideshow": {
     "slide_type": "fragment"
    }
   },
   "outputs": [],
   "source": [
    "def generar_clave(largo_clave, todo_minusculas = True):\n",
    "    clave = ''\n",
    "    for c in range(largo_clave):\n",
    "        clave  += random.choice(letras)\n",
    "    if todo_minusculas:\n",
    "        return clave.lower()\n",
    "    else:\n",
    "        return clave\n",
    "\n",
    "mi_clave = generar_clave(8)\n",
    "print(mi_clave)"
   ]
  },
  {
   "cell_type": "markdown",
   "metadata": {
    "slideshow": {
     "slide_type": "fragment"
    }
   },
   "source": [
    "- Las funciones  pueden tener valores por defecto.\n",
    "- Estos parámetros siempre se ubican **al final** de la lista de parámetros.\n",
    "- Más información en [documentación oficial sobre funciones](https://docs.python.org/3/tutorial/controlflow.html#defining-functions)"
   ]
  },
  {
   "cell_type": "markdown",
   "metadata": {
    "slideshow": {
     "slide_type": "slide"
    }
   },
   "source": [
    "\n",
    "# ¿Cuándo se evalúan los valores por defecto en los parámetros?\n"
   ]
  },
  {
   "cell_type": "code",
   "execution_count": null,
   "metadata": {
    "slideshow": {
     "slide_type": "fragment"
    }
   },
   "outputs": [],
   "source": [
    "i = 4\n",
    "def funcion(x=i):\n",
    "    print(x)\n",
    "\n",
    "i = 10\n",
    "funcion()\n"
   ]
  },
  {
   "cell_type": "markdown",
   "metadata": {
    "slideshow": {
     "slide_type": "slide"
    }
   },
   "source": [
    "# Variables locales\n",
    "\n",
    "- Analicemos este ejemplo:\n"
   ]
  },
  {
   "cell_type": "code",
   "execution_count": null,
   "metadata": {
    "slideshow": {
     "slide_type": "fragment"
    }
   },
   "outputs": [],
   "source": [
    "x = 12\n",
    "def funcion1():\n",
    "    temp = x + 1\n",
    "    print(temp)\n",
    "\n",
    "def funcion2():\n",
    "    \n",
    "    x = x + 1\n",
    "    print(x)\n",
    "\n",
    "funcion2()"
   ]
  },
  {
   "cell_type": "markdown",
   "metadata": {
    "slideshow": {
     "slide_type": "slide"
    }
   },
   "source": [
    "# Variables locales y globales\n",
    "\n",
    "- Uso de **global** y **nonlocal**.\n"
   ]
  },
  {
   "cell_type": "code",
   "execution_count": null,
   "metadata": {
    "slideshow": {
     "slide_type": "fragment"
    }
   },
   "outputs": [],
   "source": [
    "x = 0\n",
    "y = 1\n",
    "def uno():\n",
    "    x = 10\n",
    "    y = 101\n",
    "    def uno_uno():\n",
    "        nonlocal x\n",
    "        #global x\n",
    "        x = 100\n",
    "        print(f\"En uno_uno: {x} -- {y}\")\n",
    "\n",
    "    uno_uno()\n",
    "    print(f\"En uno: {x} -- {y}\") \n",
    "\n",
    "    \n",
    "uno()\n",
    "print(f\"En ppal: {x} -- {y}\") "
   ]
  },
  {
   "cell_type": "markdown",
   "metadata": {
    "slideshow": {
     "slide_type": "slide"
    }
   },
   "source": [
    "# Seguimos en la semana próxima"
   ]
  }
 ],
 "metadata": {
  "celltoolbar": "Slideshow",
  "kernelspec": {
   "display_name": "Python 3 (ipykernel)",
   "language": "python",
   "name": "python3"
  },
  "language_info": {
   "codemirror_mode": {
    "name": "ipython",
    "version": 3
   },
   "file_extension": ".py",
   "mimetype": "text/x-python",
   "name": "python",
   "nbconvert_exporter": "python",
   "pygments_lexer": "ipython3",
   "version": "3.8.10"
  }
 },
 "nbformat": 4,
 "nbformat_minor": 4
}
